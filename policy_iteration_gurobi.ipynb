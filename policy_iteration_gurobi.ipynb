{
 "cells": [
  {
   "cell_type": "code",
   "execution_count": 10,
   "metadata": {},
   "outputs": [],
   "source": [
    "from gurobipy import Model, GRB, quicksum\n",
    "import numpy as np\n",
    "from random import randint\n",
    "from math import log10, floor"
   ]
  },
  {
   "cell_type": "code",
   "execution_count": 4,
   "metadata": {},
   "outputs": [],
   "source": [
    "N =10\n",
    "A = 5\n",
    "alpha = 0.5\n",
    "states = [s for s in range(1, N+1)]\n",
    "actions = [a for a in range(1, A+1)]\n",
    "\n",
    "n_states = len(states) + states[0]\n",
    "n_actions = len(actions) + actions[0]\n",
    "p = np.zeros((n_states, n_actions, n_states))\n",
    "r = np.zeros((n_states, n_actions, n_states))"
   ]
  },
  {
   "cell_type": "code",
   "execution_count": 5,
   "metadata": {},
   "outputs": [],
   "source": [
    "# initialize rewards\n",
    "for s in states:\n",
    "    for a in actions:\n",
    "        reward = randint(0, 10)\n",
    "        for s1 in states:\n",
    "            r[s, a, s1] = reward\n",
    "\n",
    "# initialize transition probability\n",
    "for s in states:\n",
    "    for a in actions:\n",
    "        lst = [np.random.uniform() for s in range(len(states))]\n",
    "        norm = [float(i) / sum(lst) for i in lst]\n",
    "        for s1 in states:\n",
    "            p[s, a, s1] = norm[(s1-1)]"
   ]
  },
  {
   "cell_type": "markdown",
   "metadata": {},
   "source": [
    "### part.A)"
   ]
  },
  {
   "cell_type": "code",
   "execution_count": 34,
   "metadata": {},
   "outputs": [],
   "source": [
    "def round_sig(x, sig=6):\n",
    "    return round(x, sig-int(floor(log10(abs(x))))-1)\n",
    "\n",
    "def policy_iter(states, actions, prob, rewrd, alpha):\n",
    "    n_states = len(states) + states[0]\n",
    "    n_actions = len(actions) + actions[0]\n",
    "    # initialize policy\n",
    "    policy = [1 for s in range(n_states)]\n",
    "    v = dict()\n",
    "    # initialize v for each state\n",
    "    for s in states:\n",
    "        v[s] = 0\n",
    "\n",
    "    updated = True\n",
    "    iterations = 0\n",
    "    while updated:\n",
    "        updated = False\n",
    "        iterations += 1\n",
    "        # update value function by value iteration\n",
    "        for s in states:\n",
    "            v[s] = sum([prob[s, policy[s], s1]*(rewrd[s, policy[s], s1] + alpha*v[s1]) for s1 in states])\n",
    "\n",
    "        for s in states:\n",
    "            q_best = v[s]\n",
    "            for a in actions:\n",
    "                q_sa = sum([prob[s, a, s1] * (rewrd[s, a, s1] + alpha*v[s1]) for s1 in states])\n",
    "                if q_sa > q_best:\n",
    "                    policy[s] = a\n",
    "                    q_best = q_sa\n",
    "                    updated = True\n",
    "    \n",
    "    # keep 4 significant numbers\n",
    "    for s in states:\n",
    "        v[s] = round_sig(v[s])\n",
    "    print(\"policy improvment method: the optimal value functions are:{}, the optimal policy are: {}\".format(v,policy[states[0]:]))"
   ]
  },
  {
   "cell_type": "markdown",
   "metadata": {},
   "source": [
    "### part.B)"
   ]
  },
  {
   "cell_type": "code",
   "execution_count": 18,
   "metadata": {},
   "outputs": [
    {
     "name": "stdout",
     "output_type": "stream",
     "text": [
      "Using license file C:\\Users\\Vance He\\gurobi.lic\n",
      "Academic license - for non-commercial use only\n"
     ]
    }
   ],
   "source": [
    "mdl = Model('PI')"
   ]
  },
  {
   "cell_type": "code",
   "execution_count": 19,
   "metadata": {},
   "outputs": [],
   "source": [
    "x = mdl.addVars(states, vtype=GRB.CONTINUOUS)\n",
    "mdl.update()"
   ]
  },
  {
   "cell_type": "code",
   "execution_count": 20,
   "metadata": {},
   "outputs": [],
   "source": [
    "mdl.setObjective(quicksum(x[i] for i in states), GRB.MINIMIZE)"
   ]
  },
  {
   "cell_type": "code",
   "execution_count": 21,
   "metadata": {},
   "outputs": [],
   "source": [
    "for i in states:\n",
    "    for a in actions:\n",
    "        mdl.addConstr(x[i] >= quicksum(p[i, a, j]*(r[i,a,j]+alpha*x[j])for j in states))"
   ]
  },
  {
   "cell_type": "markdown",
   "metadata": {},
   "source": [
    "### part.C)"
   ]
  },
  {
   "cell_type": "code",
   "execution_count": 36,
   "metadata": {},
   "outputs": [
    {
     "name": "stdout",
     "output_type": "stream",
     "text": [
      "Gurobi Optimizer version 9.0.2 build v9.0.2rc0 (win64)\n",
      "Optimize a model with 50 rows, 10 columns and 500 nonzeros\n",
      "Coefficient statistics:\n",
      "  Matrix range     [1e-04, 1e+00]\n",
      "  Objective range  [1e+00, 1e+00]\n",
      "  Bounds range     [0e+00, 0e+00]\n",
      "  RHS range        [1e+00, 1e+01]\n",
      "\n",
      "Solved in 10 iterations and 0.00 seconds\n",
      "Optimal objective  1.782267476e+02\n"
     ]
    }
   ],
   "source": [
    "# Part B) result Gurobi\n",
    "mdl.optimize()"
   ]
  },
  {
   "cell_type": "code",
   "execution_count": 37,
   "metadata": {},
   "outputs": [],
   "source": [
    "# load results into list\n",
    "lst = [0]\n",
    "for v in mdl.getVars():\n",
    "    lst.append(v.x)"
   ]
  },
  {
   "cell_type": "code",
   "execution_count": 42,
   "metadata": {},
   "outputs": [],
   "source": [
    "# print value function\n",
    "value_func = dict()\n",
    "\n",
    "# keep 4 significant numbers\n",
    "for s in states:\n",
    "    lst[s] = round_sig(lst[s])\n",
    "for s in states:\n",
    "    value_func[s] = lst[s] "
   ]
  },
  {
   "cell_type": "code",
   "execution_count": 43,
   "metadata": {},
   "outputs": [],
   "source": [
    "policy = []\n",
    "for i in states:\n",
    "    for a in actions:\n",
    "        if (lst[i] -sum([p[i, a, j]*(r[i,a,j]+alpha*lst[j]) for j in states])) < 0.01:\n",
    "            policy.append(a)"
   ]
  },
  {
   "cell_type": "code",
   "execution_count": 39,
   "metadata": {},
   "outputs": [
    {
     "name": "stdout",
     "output_type": "stream",
     "text": [
      "\n",
      "    Variable            x \n",
      "-------------------------\n",
      "          C0       18.967 \n",
      "          C1      17.8753 \n",
      "          C2      18.8445 \n",
      "          C3      18.9514 \n",
      "          C4      19.0108 \n",
      "          C5      14.0049 \n",
      "          C6      16.8032 \n",
      "          C7      18.9316 \n",
      "          C8      17.9234 \n",
      "          C9      16.9147 \n"
     ]
    }
   ],
   "source": [
    "# optimal value function\n",
    "mdl.printAttr('x')"
   ]
  },
  {
   "cell_type": "code",
   "execution_count": 44,
   "metadata": {},
   "outputs": [
    {
     "name": "stdout",
     "output_type": "stream",
     "text": [
      "policy improvment method: the optimal value functions are:{1: 18.967, 2: 17.8753, 3: 18.8445, 4: 18.9514, 5: 19.0108, 6: 14.0049, 7: 16.8032, 8: 18.9316, 9: 17.9234, 10: 16.9147}, the optimal policy are: [1, 3, 1, 2, 2, 5, 3, 4, 1, 3]\n"
     ]
    }
   ],
   "source": [
    "# part A) result\n",
    "policy_iter(states, actions, p, r, alpha)"
   ]
  },
  {
   "cell_type": "code",
   "execution_count": 45,
   "metadata": {},
   "outputs": [
    {
     "name": "stdout",
     "output_type": "stream",
     "text": [
      "linear programming: the optimal value functions are:{1: 18.967, 2: 17.8753, 3: 18.8445, 4: 18.9514, 5: 19.0108, 6: 14.0049, 7: 16.8032, 8: 18.9316, 9: 17.9234, 10: 16.9147}, the optimal policy are: [1, 3, 1, 2, 2, 5, 3, 4, 1, 3]\n"
     ]
    }
   ],
   "source": [
    "# Part B) result\n",
    "print(\"linear programming: the optimal value functions are:{}, the optimal policy are: {}\".format(value_func ,policy))"
   ]
  },
  {
   "cell_type": "markdown",
   "metadata": {},
   "source": [
    "***From the two results above, we could see that these two methods produce the same result.*** "
   ]
  }
 ],
 "metadata": {
  "kernelspec": {
   "display_name": "Python 3",
   "language": "python",
   "name": "python3"
  },
  "language_info": {
   "codemirror_mode": {
    "name": "ipython",
    "version": 3
   },
   "file_extension": ".py",
   "mimetype": "text/x-python",
   "name": "python",
   "nbconvert_exporter": "python",
   "pygments_lexer": "ipython3",
   "version": "3.7.4"
  }
 },
 "nbformat": 4,
 "nbformat_minor": 4
}
